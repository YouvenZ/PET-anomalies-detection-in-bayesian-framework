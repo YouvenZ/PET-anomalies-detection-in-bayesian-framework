{
 "cells": [
  {
   "cell_type": "markdown",
   "metadata": {},
   "source": [
    "# Required import "
   ]
  },
  {
   "cell_type": "code",
   "execution_count": 1,
   "metadata": {},
   "outputs": [],
   "source": [
    "import SimpleITK as sitk\n",
    "import os\n",
    "import glob\n",
    "import numpy as np\n",
    "import pydicom\n",
    "import nibabel as nib\n",
    "import pandas as pd\n",
    "\n",
    "import matplotlib.pyplot as plt\n",
    "import matplotlib.patches as mpatches\n",
    "\n",
    "import skimage\n",
    "from skimage import data, measure\n",
    "from skimage.io import imread\n",
    "from skimage.filters import threshold_otsu\n",
    "from skimage.segmentation import clear_border\n",
    "from skimage.measure import regionprops\n",
    "from skimage.morphology import closing, square\n",
    "from skimage.color import label2rgb\n",
    "\n",
    "import pickle\n",
    "import torch\n",
    "%matplotlib inline"
   ]
  },
  {
   "cell_type": "markdown",
   "metadata": {},
   "source": [
    "# Loading images"
   ]
  },
  {
   "cell_type": "code",
   "execution_count": 2,
   "metadata": {},
   "outputs": [],
   "source": [
    "data_dir=r'C:\\GAINED\\resampled_croped'"
   ]
  },
  {
   "cell_type": "code",
   "execution_count": 3,
   "metadata": {},
   "outputs": [],
   "source": [
    "def get_path_modality_and_mask(data_dir):\n",
    "    \n",
    "    ls_idx_pet = list(map(lambda x:x.split('\\\\')[-1].split('_')[0] , glob.glob(data_dir +'\\\\'+ 'PET0\\\\*00001.nii*')))    \n",
    "    ls_idx_mask = list(np.unique(np.array(list(map(lambda x:x.split('\\\\')[-1][:14], glob.glob(data_dir +'\\\\'+'PET0_mask*/*nii*'))))))\n",
    "    #print(ls_idx_mask)\n",
    "    #print(ls_idx_pet)\n",
    "    ls_ids = list(set(ls_idx_pet).intersection(set(ls_idx_mask)))\n",
    "        \n",
    "    pt_path=[os.path.join(data_dir,'PET0',ids+'_00001.nii') for ids in ls_ids]\n",
    "    \n",
    "    mask_path=[os.path.join(data_dir,'PET0_masks',ids+'_mask.nii') for ids in ls_ids]\n",
    "    \n",
    "    \n",
    "    return pt_path,mask_path"
   ]
  },
  {
   "cell_type": "code",
   "execution_count": 4,
   "metadata": {},
   "outputs": [],
   "source": [
    "pt_path,mask_path=get_path_modality_and_mask(data_dir)"
   ]
  },
  {
   "cell_type": "code",
   "execution_count": 5,
   "metadata": {},
   "outputs": [],
   "source": [
    "all_mask_img=[]\n",
    "for path in mask_path[:100]:\n",
    "    mask_sitk=sitk.ReadImage(path)\n",
    "    masks_np=sitk.GetArrayFromImage(mask_sitk)\n",
    "    for i in range(masks_np.shape[1]):\n",
    "        all_mask_img.append(masks_np[:,i,:])\n",
    "        \n",
    "    \n",
    "all_pt_img=[]\n",
    "for path in pt_path[:100]:\n",
    "    img_sitk=sitk.ReadImage(path)\n",
    "    img_np=sitk.GetArrayFromImage(img_sitk)\n",
    "    for i in range(img_np.shape[1]):\n",
    "        all_pt_img.append(img_np[:,i,:])\n",
    "        \n",
    "all_pt_img=np.array(all_pt_img)\n",
    "all_mask_img=np.array(all_mask_img)"
   ]
  },
  {
   "cell_type": "code",
   "execution_count": null,
   "metadata": {},
   "outputs": [],
   "source": [
    "# utilities function"
   ]
  },
  {
   "cell_type": "code",
   "execution_count": 12,
   "metadata": {},
   "outputs": [],
   "source": [
    "# @hidden_cell\n",
    "def get_one_hot_encoding(y, n_classes):\n",
    "    \"\"\"\n",
    "    transform a numpy label array to a one-hot array of the same shape.\n",
    "    :param y: array of shape (b, 1, y, x, (z)).\n",
    "    :param n_classes: int, number of classes to unfold in one-hot encoding.\n",
    "    :return y_ohe: array of shape (b, n_classes, y, x, (z))\n",
    "    \"\"\"\n",
    "    dim = len(y.shape) - 2\n",
    "    if dim == 2:\n",
    "        y_ohe = np.zeros((y.shape[0], n_classes, y.shape[2], y.shape[3])).astype('int32')\n",
    "    if dim ==3:\n",
    "        y_ohe = np.zeros((y.shape[0], n_classes, y.shape[2], y.shape[3], y.shape[4])).astype('int32')\n",
    "    for cl in range(n_classes):\n",
    "        y_ohe[:, cl][y[:, 0] == cl] = 1\n",
    "    return y_ohe"
   ]
  },
  {
   "cell_type": "code",
   "execution_count": 7,
   "metadata": {},
   "outputs": [],
   "source": [
    "def get_dice_per_batch_and_class(pred, y, n_classes):\n",
    "    '''\n",
    "    computes dice scores per batch instance and class.\n",
    "    :param pred: prediction array of shape (b, 1, y, x, (z)) (e.g. softmax prediction with argmax over dim 1)\n",
    "    :param y: ground truth array of shape (b, 1, y, x, (z)) (contains int [0, ..., n_classes]\n",
    "    :param n_classes: int\n",
    "    :return: dice scores of shape (b, c)\n",
    "    '''\n",
    "    pred = (pred>=1).astype(np.int)\n",
    "    y = (y>=1).astype(np.int)\n",
    "    pred = get_one_hot_encoding(pred, n_classes)\n",
    "    y = get_one_hot_encoding(y, n_classes)\n",
    "    axes = tuple(range(2, len(pred.shape)))\n",
    "    intersect = np.sum(pred*y, axis=axes)\n",
    "    denominator = np.sum(pred, axis=axes)+np.sum(y, axis=axes) + 1e-8\n",
    "    dice = 2.0*intersect / denominator\n",
    "    return dice"
   ]
  }
 ],
 "metadata": {
  "kernelspec": {
   "display_name": "Python 3.6.10 64-bit ('pytorch': conda)",
   "language": "python",
   "name": "python361064bitpytorchconda2a37e9aabdba449990e12aaef5185825"
  },
  "language_info": {
   "codemirror_mode": {
    "name": "ipython",
    "version": 3
   },
   "file_extension": ".py",
   "mimetype": "text/x-python",
   "name": "python",
   "nbconvert_exporter": "python",
   "pygments_lexer": "ipython3",
   "version": "3.6.10"
  }
 },
 "nbformat": 4,
 "nbformat_minor": 4
}
