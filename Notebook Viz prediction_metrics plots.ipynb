{
 "cells": [
  {
   "cell_type": "markdown",
   "metadata": {},
   "source": [
    "# Import"
   ]
  },
  {
   "cell_type": "code",
   "execution_count": 1,
   "metadata": {},
   "outputs": [],
   "source": [
    "import numpy as np\n",
    "import matplotlib.pyplot as plt\n",
    "\n",
    "import os\n",
    "import glob\n",
    "import numpy as np\n",
    "\n",
    "\n",
    "# from skimage import data, measure\n",
    "# from skimage.io import imread\n",
    "# from skimage.filters import threshold_otsu\n",
    "# from skimage.segmentation \n",
    "\n",
    "# from skimage.measure import regionprops\n",
    "# from skimage.morphology import closing, square\n",
    "\n",
    "# from skimage.color import label2rgb\n",
    "\n",
    "import pickle\n",
    "\n",
    "%matplotlib inline"
   ]
  },
  {
   "cell_type": "markdown",
   "metadata": {},
   "source": [
    "# Utility function"
   ]
  },
  {
   "cell_type": "code",
   "execution_count": null,
   "metadata": {},
   "outputs": [],
   "source": [
    "name_output_dir = 'run_256256Beta1_epochs30'\n",
    "file_name_train='training_logs_'+name_output_dir+'.pkl'\n",
    "file_name_valid='validation_logs_'+name_output_dir+'.pkl'\n",
    "\n",
    "\n",
    "# file_name_train=\"training_logs_run_128128Beta1_epochs60.pkl\"\n",
    "# file_name_valid=\"validation_logs_128128Beta1_epochs60.pkl\""
   ]
  },
  {
   "cell_type": "code",
   "execution_count": null,
   "metadata": {},
   "outputs": [],
   "source": [
    "def log_from_plk(file_name):\n",
    "    file = open(file_name, \"rb\")\n",
    "    output = pickle.load(file)\n",
    "    #print(output_train)\n",
    "    file.close()\n",
    "    return output"
   ]
  },
  {
   "cell_type": "markdown",
   "metadata": {},
   "source": [
    "## KL plot"
   ]
  },
  {
   "cell_type": "code",
   "execution_count": null,
   "metadata": {},
   "outputs": [],
   "source": [
    "def Kl_logs(output_file):\n",
    "    \n",
    "    kl_per_levels = output_file[\"kls_loss_train\"]\n",
    "    kl_per_levels_mean = np.mean(kl_per_levels,axis=1)\n",
    "\n",
    "    kl_0=[kl[0] for kl in kl_per_levels]\n",
    "    kl_1=[kl[1] for kl in kl_per_levels]\n",
    "    kl_2=[kl[2] for kl in kl_per_levels]\n",
    "    kl_3=[kl[3] for kl in kl_per_levels]\n",
    "    \n",
    "    return kl_0,kl_1,kl_2,kl_3,kl_per_levels_mean"
   ]
  },
  {
   "cell_type": "code",
   "execution_count": null,
   "metadata": {},
   "outputs": [],
   "source": [
    "def plot_mean_kl(kl_per_levels_mean):\n",
    "    plt.figure(figsize=(20,10))\n",
    "    plt.plot(kl_per_levels_mean[0],label='kl_mean_train')\n",
    "    plt.plot(kl_per_levels_mean[1],label='kl_mean_valid')\n",
    "    plt.xlabel(\"epochs\")\n",
    "    plt.ylabel(\"KL mean\")\n",
    "    plt.legend(loc='upper center', bbox_to_anchor=(0.5, 1.00), shadow=True, ncol=2)\n",
    "    plt.title(\"Mean kl over during training\")\n",
    "    plt.savefig(os.path.join(r'C:\\Users\\youve\\Dossier Thése\\model_chkpoint\\plot_metrics',name_output_dir+'kl_mean'+'.png'))"
   ]
  },
  {
   "cell_type": "code",
   "execution_count": null,
   "metadata": {},
   "outputs": [],
   "source": [
    "def plot_kl(kl):\n",
    "    \n",
    "    plt.figure(figsize=(45,10))\n",
    "    plt.subplot(1,4,1)\n",
    "    plt.plot(kl[0][0],label='kl_0_train')\n",
    "    plt.plot(kl[0][1],label='kl_0_valid')\n",
    "    plt.xlabel(\"epochs\")\n",
    "    plt.ylabel(\"kl_0\")\n",
    "    plt.legend(loc='upper center', bbox_to_anchor=(0.5, 1.00), shadow=True, ncol=2)\n",
    "    plt.title(\"KL level 0\")\n",
    "    \n",
    "    \n",
    "    plt.subplot(1,4,2)\n",
    "    plt.plot(kl[1][0],label='kl_1_train')\n",
    "    plt.plot(kl[1][1],label='kl_1_valid')\n",
    "    plt.xlabel(\"epochs\")\n",
    "    plt.ylabel(\"kl_1\")\n",
    "    plt.legend(loc='upper center', bbox_to_anchor=(0.5, 1.00), shadow=True, ncol=2)\n",
    "    plt.title(\"KL level 1\")\n",
    "    \n",
    "    \n",
    "    plt.subplot(1,4,3)\n",
    "    plt.plot(kl[2][0],label='kl_2_train')\n",
    "    plt.plot(kl[2][1],label='kl_2_valid')\n",
    "    plt.xlabel(\"epochs\")\n",
    "    plt.ylabel(\"kl_2\")\n",
    "    plt.legend(loc='upper center', bbox_to_anchor=(0.5, 1.00), shadow=True, ncol=2)\n",
    "    plt.title(\"KL level 2\")\n",
    "    \n",
    "    \n",
    "    \n",
    "    plt.subplot(1,4,4)\n",
    "    plt.plot(kl[3][0],label='kl_3_train')\n",
    "    plt.plot(kl[3][1],label='kl_3_valid')\n",
    "    plt.xlabel(\"epochs\")\n",
    "    plt.ylabel(\"kl_3\")\n",
    "    plt.legend(loc='upper center', bbox_to_anchor=(0.5, 1.00), shadow=True, ncol=2)\n",
    "    plt.title(\"KL level 3\")\n",
    "\n",
    "    plt.subplots_adjust(left=None, bottom=None, right=None, top=None, wspace=0.5, hspace=None)\n",
    "    plt.savefig(os.path.join(r'C:\\Users\\youve\\Dossier Thése\\model_chkpoint\\plot_metrics',name_output_dir+'kl_losses'+'.png'))"
   ]
  },
  {
   "cell_type": "code",
   "execution_count": null,
   "metadata": {},
   "outputs": [],
   "source": [
    "out_train_file,out_valid_file=log_from_plk(file_name_train),log_from_plk(file_name_valid)\n",
    "out_train,out_valid=Kl_logs(out_train_file),Kl_logs(out_valid_file)\n",
    "kl = [[kl_t,kl_v] for kl_t,kl_v in zip(out_train,out_valid)]\n",
    "plot_kl(kl)"
   ]
  },
  {
   "cell_type": "code",
   "execution_count": null,
   "metadata": {},
   "outputs": [],
   "source": [
    "plot_mean_kl(kl[4])"
   ]
  },
  {
   "cell_type": "markdown",
   "metadata": {},
   "source": [
    "## ELBO"
   ]
  },
  {
   "cell_type": "code",
   "execution_count": null,
   "metadata": {},
   "outputs": [],
   "source": [
    "plt.figure(figsize=(20,10))\n",
    "plt.plot(out_train_file[\"train_loss\"],label=\"Train ELBO\")\n",
    "plt.plot(out_valid_file[\"val_loss\"],label=\"Valid ELBO\")\n",
    "plt.xlabel(\"epochs\")\n",
    "plt.ylabel(\"ELBO\")\n",
    "plt.legend(loc='upper center', bbox_to_anchor=(0.5, 1.00), shadow=True, ncol=2)\n",
    "plt.title(\"ELBO during training\")\n",
    "plt.savefig(os.path.join(r'C:\\Users\\youve\\Dossier Thése\\model_chkpoint\\plot_metrics',name_output_dir+'elbo'+'.png'))"
   ]
  },
  {
   "cell_type": "markdown",
   "metadata": {},
   "source": [
    "##  Accuracy  metric (dice coef)"
   ]
  },
  {
   "cell_type": "code",
   "execution_count": null,
   "metadata": {},
   "outputs": [],
   "source": [
    "plt.figure(figsize=(20,10))\n",
    "plt.plot(out_train_file[\"dice_score_train\"],label=\"Train DICE\")\n",
    "plt.plot(out_valid_file[\"dice_score_val\"],label=\"Valid DICE\")\n",
    "plt.xlabel(\"epochs\")\n",
    "plt.ylabel(\"DICE\")\n",
    "plt.legend(loc='upper center', bbox_to_anchor=(0.5, 1.00), shadow=True, ncol=2)\n",
    "plt.title(\"DICE during training\")\n",
    "plt.savefig(os.path.join(r'C:\\Users\\youve\\Dossier Thése\\model_chkpoint\\plot_metrics',name_output_dir+'dice'+'.png'))"
   ]
  },
  {
   "cell_type": "markdown",
   "metadata": {},
   "source": [
    "## Reconstuction loss "
   ]
  },
  {
   "cell_type": "code",
   "execution_count": null,
   "metadata": {},
   "outputs": [],
   "source": [
    "plt.figure(figsize=(20,10))\n",
    "plt.plot(out_train_file[\"recons_loss_train\"],label=\"Train Reconstruction\")\n",
    "plt.plot(out_valid_file[\"recons_loss_val\"],label=\"Valid Reconstruction\")\n",
    "plt.xlabel(\"epochs\")\n",
    "plt.ylabel(\"Reconstruction\")\n",
    "plt.legend(loc='upper center', bbox_to_anchor=(0.5, 1.00), shadow=True, ncol=2)\n",
    "plt.title(\"Reconstruction during training\")\n",
    "plt.savefig(os.path.join(r'C:\\Users\\youve\\Dossier Thése\\model_chkpoint\\plot_metrics',name_output_dir+'reconstruction_loss'+'.png'))\n"
   ]
  },
  {
   "cell_type": "markdown",
   "metadata": {},
   "source": [
    "# Loss DeTr"
   ]
  },
  {
   "cell_type": "code",
   "execution_count": null,
   "metadata": {},
   "outputs": [],
   "source": [
    "def losses_detr(out_file,mode='train'):\n",
    "    keywords='detection_loss_train'\n",
    "    if mode=='val':\n",
    "        keywords='detection_loss_val'\n",
    "    #print(keywords)\n",
    "    detr_ce = [l[0] for l in out_file[keywords]]\n",
    "    detr_bbox = [l[1] for l in out_file[keywords]]\n",
    "    detr_giou = [l[2] for l in out_file[keywords]]\n",
    "    \n",
    "    return detr_ce,detr_bbox,detr_giou"
   ]
  },
  {
   "cell_type": "code",
   "execution_count": null,
   "metadata": {},
   "outputs": [],
   "source": [
    "def plot_losses_detr(out_train_file,out_valid_file):\n",
    "    \n",
    "    detr_ce_t,detr_bbox_t,detr_giou_t=losses_detr(out_train_file)\n",
    "    \n",
    "    detr_ce_v,detr_bbox_v,detr_giou_v=losses_detr(out_valid_file,mode='val')\n",
    "    \n",
    "    \n",
    "    plt.figure(figsize=(45,10))\n",
    "    plt.subplot(1,3,1)\n",
    "    plt.plot(detr_ce_t,label='CE_train')\n",
    "    plt.plot(detr_ce_v,label='CE_valid')\n",
    "    plt.xlabel(\"epochs\")\n",
    "    plt.ylabel(\"Cross Entropy\")\n",
    "    plt.legend(loc='upper center', bbox_to_anchor=(0.5, 1.00), shadow=True, ncol=2)\n",
    "    plt.title(\"CE loss during training\")\n",
    "    \n",
    "    \n",
    "    plt.subplot(1,3,2)\n",
    "    plt.plot(detr_bbox_t,label='bbox_train')\n",
    "    plt.plot(detr_bbox_v,label='bbox_valid')\n",
    "    plt.xlabel(\"epochs\")\n",
    "    plt.ylabel(\"bbox\")\n",
    "    plt.legend(loc='upper center', bbox_to_anchor=(0.5, 1.00), shadow=True, ncol=2)\n",
    "    plt.title(\"bbox loss during training\")\n",
    "    \n",
    "    \n",
    "    plt.subplot(1,3,3)\n",
    "    plt.plot(detr_giou_t,label='giou_train')\n",
    "    plt.plot(detr_giou_v,label='giou_valid')\n",
    "    plt.xlabel(\"epochs\")\n",
    "    plt.ylabel(\"kl_2\")\n",
    "    plt.legend(loc='upper center', bbox_to_anchor=(0.5, 1.00), shadow=True, ncol=2)\n",
    "    plt.title(\"giou loss during training\")\n",
    "    \n",
    "    plt.subplots_adjust(left=None, bottom=None, right=None, top=None, wspace=0.5, hspace=None)\n",
    "    plt.savefig('./plot_metrics/'+name_output_dir+'/detrlosses'+name_output_dir+'.png')\n",
    "    \n",
    "    "
   ]
  },
  {
   "cell_type": "code",
   "execution_count": null,
   "metadata": {},
   "outputs": [],
   "source": [
    "plot_losses_detr(out_train_file,out_valid_file)"
   ]
  },
  {
   "cell_type": "markdown",
   "metadata": {},
   "source": [
    "# load Test dataset ~10/20 patients"
   ]
  }
 ],
 "metadata": {
  "kernelspec": {
   "display_name": "Python 3.6.10 64-bit ('pytorch': conda)",
   "language": "python",
   "name": "python361064bitpytorchconda2a37e9aabdba449990e12aaef5185825"
  },
  "language_info": {
   "codemirror_mode": {
    "name": "ipython",
    "version": 3
   },
   "file_extension": ".py",
   "mimetype": "text/x-python",
   "name": "python",
   "nbconvert_exporter": "python",
   "pygments_lexer": "ipython3",
   "version": "3.6.10"
  }
 },
 "nbformat": 4,
 "nbformat_minor": 4
}
